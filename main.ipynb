{
  "nbformat": 4,
  "nbformat_minor": 0,
  "metadata": {
    "colab": {
      "provenance": [],
      "authorship_tag": "ABX9TyP4aCTmslgtWSZb57gP+2fT"
    },
    "kernelspec": {
      "name": "python3",
      "display_name": "Python 3"
    },
    "language_info": {
      "name": "python"
    }
  },
  "cells": [
    {
      "cell_type": "code",
      "execution_count": 33,
      "metadata": {
        "colab": {
          "base_uri": "https://localhost:8080/"
        },
        "id": "gX8vsZOjY7Fq",
        "outputId": "3c9db5fa-cf6e-4928-8b6e-4b73c0cd33c2"
      },
      "outputs": [
        {
          "output_type": "stream",
          "name": "stdout",
          "text": [
            "Cloning into 'practice-3'...\n",
            "remote: Enumerating objects: 19, done.\u001b[K\n",
            "remote: Counting objects:   5% (1/19)\u001b[K\rremote: Counting objects:  10% (2/19)\u001b[K\rremote: Counting objects:  15% (3/19)\u001b[K\rremote: Counting objects:  21% (4/19)\u001b[K\rremote: Counting objects:  26% (5/19)\u001b[K\rremote: Counting objects:  31% (6/19)\u001b[K\rremote: Counting objects:  36% (7/19)\u001b[K\rremote: Counting objects:  42% (8/19)\u001b[K\rremote: Counting objects:  47% (9/19)\u001b[K\rremote: Counting objects:  52% (10/19)\u001b[K\rremote: Counting objects:  57% (11/19)\u001b[K\rremote: Counting objects:  63% (12/19)\u001b[K\rremote: Counting objects:  68% (13/19)\u001b[K\rremote: Counting objects:  73% (14/19)\u001b[K\rremote: Counting objects:  78% (15/19)\u001b[K\rremote: Counting objects:  84% (16/19)\u001b[K\rremote: Counting objects:  89% (17/19)\u001b[K\rremote: Counting objects:  94% (18/19)\u001b[K\rremote: Counting objects: 100% (19/19)\u001b[K\rremote: Counting objects: 100% (19/19), done.\u001b[K\n",
            "remote: Compressing objects:   8% (1/12)\u001b[K\rremote: Compressing objects:  16% (2/12)\u001b[K\rremote: Compressing objects:  25% (3/12)\u001b[K\rremote: Compressing objects:  33% (4/12)\u001b[K\rremote: Compressing objects:  41% (5/12)\u001b[K\rremote: Compressing objects:  50% (6/12)\u001b[K\rremote: Compressing objects:  58% (7/12)\u001b[K\rremote: Compressing objects:  66% (8/12)\u001b[K\rremote: Compressing objects:  75% (9/12)\u001b[K\rremote: Compressing objects:  83% (10/12)\u001b[K\rremote: Compressing objects:  91% (11/12)\u001b[K\rremote: Compressing objects: 100% (12/12)\u001b[K\rremote: Compressing objects: 100% (12/12), done.\u001b[K\n",
            "Receiving objects:   5% (1/19)\rReceiving objects:  10% (2/19)\rReceiving objects:  15% (3/19)\rReceiving objects:  21% (4/19)\rReceiving objects:  26% (5/19)\rReceiving objects:  31% (6/19)\rReceiving objects:  36% (7/19)\rReceiving objects:  42% (8/19)\rReceiving objects:  47% (9/19)\rReceiving objects:  52% (10/19)\rReceiving objects:  57% (11/19)\rremote: Total 19 (delta 6), reused 13 (delta 5), pack-reused 0\u001b[K\n",
            "Receiving objects:  63% (12/19)\rReceiving objects:  68% (13/19)\rReceiving objects:  73% (14/19)\rReceiving objects:  78% (15/19)\rReceiving objects:  84% (16/19)\rReceiving objects:  89% (17/19)\rReceiving objects:  94% (18/19)\rReceiving objects: 100% (19/19)\rReceiving objects: 100% (19/19), 25.35 KiB | 3.17 MiB/s, done.\n",
            "Resolving deltas:   0% (0/6)\rResolving deltas:  16% (1/6)\rResolving deltas:  33% (2/6)\rResolving deltas:  50% (3/6)\rResolving deltas:  66% (4/6)\rResolving deltas:  83% (5/6)\rResolving deltas: 100% (6/6)\rResolving deltas: 100% (6/6), done.\n"
          ]
        }
      ],
      "source": [
        "!git clone https://github.com/luckydia/practice-3.git"
      ]
    },
    {
      "cell_type": "code",
      "source": [
        "import sys\n",
        "sys.path.append('/content/practice-3')"
      ],
      "metadata": {
        "id": "wfD-kHEoeMhX"
      },
      "execution_count": 35,
      "outputs": []
    },
    {
      "cell_type": "code",
      "source": [
        "from dataloader import load_data, show_img\n",
        "from model import Net\n",
        "from train import train\n",
        "import torch\n",
        "import torchvision"
      ],
      "metadata": {
        "id": "zNd_Vd-za7X8"
      },
      "execution_count": 37,
      "outputs": []
    },
    {
      "cell_type": "code",
      "source": [
        "trainloader, testloader, classes, batch_size = load_data()"
      ],
      "metadata": {
        "colab": {
          "base_uri": "https://localhost:8080/"
        },
        "id": "v04Q1Wfbef49",
        "outputId": "4b115884-ad84-470f-a14b-f60e567d6c42"
      },
      "execution_count": 38,
      "outputs": [
        {
          "output_type": "stream",
          "name": "stdout",
          "text": [
            "Files already downloaded and verified\n",
            "Files already downloaded and verified\n"
          ]
        }
      ]
    },
    {
      "cell_type": "code",
      "source": [
        "show_img(trainloader, classes, batch_size)"
      ],
      "metadata": {
        "colab": {
          "base_uri": "https://localhost:8080/",
          "height": 210
        },
        "id": "Vxzx32m-ezii",
        "outputId": "8e4b9ccb-63cb-4144-bea0-e016276647d1"
      },
      "execution_count": 39,
      "outputs": [
        {
          "output_type": "display_data",
          "data": {
            "text/plain": [
              "<Figure size 640x480 with 1 Axes>"
            ],
            "image/png": "[encoded data removed]"
          },
          "metadata": {}
        },
        {
          "output_type": "stream",
          "name": "stdout",
          "text": [
            "car   truck ship  plane\n"
          ]
        }
      ]
    },
    {
      "cell_type": "code",
      "source": [
        "net = Net()"
      ],
      "metadata": {
        "id": "lDETiigOa9vo"
      },
      "execution_count": 40,
      "outputs": []
    },
    {
      "cell_type": "code",
      "source": [
        "train(net, trainloader, testloader, classes, batch_size)"
      ],
      "metadata": {
        "colab": {
          "base_uri": "https://localhost:8080/"
        },
        "id": "1KHIj0Mye-DP",
        "outputId": "612587d3-3053-4692-cb06-5673b40049fe"
      },
      "execution_count": 41,
      "outputs": [
        {
          "output_type": "stream",
          "name": "stdout",
          "text": [
            "[1,  2000] loss: 2.190\n",
            "[1,  4000] loss: 1.858\n",
            "[1,  6000] loss: 1.677\n",
            "[1,  8000] loss: 1.569\n",
            "[1, 10000] loss: 1.520\n",
            "[1, 12000] loss: 1.459\n",
            "[2,  2000] loss: 1.376\n",
            "[2,  4000] loss: 1.369\n",
            "[2,  6000] loss: 1.336\n",
            "[2,  8000] loss: 1.305\n",
            "[2, 10000] loss: 1.296\n",
            "[2, 12000] loss: 1.282\n",
            "Finished Training\n"
          ]
        }
      ]
    },
    {
      "cell_type": "code",
      "source": [
        "PATH = './cifar_net.pth'\n",
        "torch.save(net.state_dict(), PATH)"
      ],
      "metadata": {
        "id": "lEI3Shz7fk3q"
      },
      "execution_count": 42,
      "outputs": []
    },
    {
      "cell_type": "code",
      "source": [
        "show_img(testloader, classes, batch_size)"
      ],
      "metadata": {
        "colab": {
          "base_uri": "https://localhost:8080/",
          "height": 210
        },
        "id": "RvAUiv_tiBsK",
        "outputId": "f62dd6b9-935c-4692-e6af-3442616fb2ce"
      },
      "execution_count": 43,
      "outputs": [
        {
          "output_type": "display_data",
          "data": {
            "text/plain": [
              "<Figure size 640x480 with 1 Axes>"
            ],
            "image/png": "[encoded data removed]"
          },
          "metadata": {}
        },
        {
          "output_type": "stream",
          "name": "stdout",
          "text": [
            "cat   ship  ship  plane\n"
          ]
        }
      ]
    },
    {
      "cell_type": "code",
      "source": [
        "dataiter = iter(testloader)\n",
        "images, labels = next(dataiter)\n",
        "outputs = net(images)"
      ],
      "metadata": {
        "id": "eTl8_bnMkS9-"
      },
      "execution_count": 44,
      "outputs": []
    },
    {
      "cell_type": "code",
      "source": [
        "_, predicted = torch.max(outputs, 1)\n",
        "\n",
        "print('Predicted: ', ' '.join(f'{classes[predicted[j]]:5s}'\n",
        "                              for j in range(4)))"
      ],
      "metadata": {
        "colab": {
          "base_uri": "https://localhost:8080/"
        },
        "id": "PylAhI28oWPO",
        "outputId": "f2c96ac0-269e-406e-9efb-cfbd622d932a"
      },
      "execution_count": 45,
      "outputs": [
        {
          "output_type": "stream",
          "name": "stdout",
          "text": [
            "Predicted:  cat   ship  ship  ship \n"
          ]
        }
      ]
    },
    {
      "cell_type": "code",
      "source": [
        "correct = 0\n",
        "total = 0\n",
        "# since we're not training, we don't need to calculate the gradients for our outputs\n",
        "with torch.no_grad():\n",
        "    for data in testloader:\n",
        "        images, labels = data\n",
        "        # calculate outputs by running images through the network\n",
        "        outputs = net(images)\n",
        "        # the class with the highest energy is what we choose as prediction\n",
        "        _, predicted = torch.max(outputs.data, 1)\n",
        "        total += labels.size(0)\n",
        "        correct += (predicted == labels).sum().item()\n",
        "\n",
        "print(f'Accuracy of the network on the 10000 test images: {100 * correct // total} %')"
      ],
      "metadata": {
        "colab": {
          "base_uri": "https://localhost:8080/"
        },
        "id": "KE35QM5loukI",
        "outputId": "58924d9f-84c2-42be-885f-a449b076f7ec"
      },
      "execution_count": 46,
      "outputs": [
        {
          "output_type": "stream",
          "name": "stdout",
          "text": [
            "Accuracy of the network on the 10000 test images: 55 %\n"
          ]
        }
      ]
    },
    {
      "cell_type": "code",
      "source": [
        "# prepare to count predictions for each class\n",
        "correct_pred = {classname: 0 for classname in classes}\n",
        "total_pred = {classname: 0 for classname in classes}\n",
        "\n",
        "# again no gradients needed\n",
        "with torch.no_grad():\n",
        "    for data in testloader:\n",
        "        images, labels = data\n",
        "        outputs = net(images)\n",
        "        _, predictions = torch.max(outputs, 1)\n",
        "        # collect the correct predictions for each class\n",
        "        for label, prediction in zip(labels, predictions):\n",
        "            if label == prediction:\n",
        "                correct_pred[classes[label]] += 1\n",
        "            total_pred[classes[label]] += 1\n",
        "\n",
        "\n",
        "# print accuracy for each class\n",
        "for classname, correct_count in correct_pred.items():\n",
        "    accuracy = 100 * float(correct_count) / total_pred[classname]\n",
        "    print(f'Accuracy for class: {classname:5s} is {accuracy:.1f} %')"
      ],
      "metadata": {
        "colab": {
          "base_uri": "https://localhost:8080/"
        },
        "id": "sva0rkqoox7b",
        "outputId": "07a22e24-4cc3-4e26-9971-3d823bf87571"
      },
      "execution_count": 47,
      "outputs": [
        {
          "output_type": "stream",
          "name": "stdout",
          "text": [
            "Accuracy for class: plane is 41.2 %\n",
            "Accuracy for class: car   is 61.7 %\n",
            "Accuracy for class: bird  is 34.6 %\n",
            "Accuracy for class: cat   is 40.7 %\n",
            "Accuracy for class: deer  is 53.0 %\n",
            "Accuracy for class: dog   is 39.4 %\n",
            "Accuracy for class: frog  is 65.8 %\n",
            "Accuracy for class: horse is 64.0 %\n",
            "Accuracy for class: ship  is 82.8 %\n",
            "Accuracy for class: truck is 66.8 %\n"
          ]
        }
      ]
    }
  ]
}